{
 "cells": [
  {
   "cell_type": "code",
   "execution_count": 43,
   "metadata": {
    "collapsed": false
   },
   "outputs": [],
   "source": [
    "import csv\n",
    "\n",
    "f = open('Bees.csv')\n",
    "csv_f = csv.reader(f, delimiter=\",\")\n",
    "\n",
    "YearsCol = []\n",
    "CaliforniaCol = []\n",
    "SouthDakotaCol = []\n",
    "UnitedStatesCol = []\n",
    "for row in csv_f:\n",
    "    YearsCol.append(row[0])\n",
    "    CaliforniaCol.append(row[1])\n",
    "    SouthDakotaCol.append(row[2])\n",
    "    UnitedStatesCol.append(row[3])\n",
    "    \n",
    "foo = open('HumanPopulation.csv')\n",
    "csv_foo = csv.reader(foo, delimiter=\",\")\n",
    "\n",
    "YearsPop = []\n",
    "CaliforniaPop = []\n",
    "SouthDakotaPop = []\n",
    "UnitedStatesPop = []\n",
    "\n",
    "for row in csv_foo:\n",
    "    YearsPop.append(row[0])\n",
    "    CaliforniaPop.append(row[1])\n",
    "    SouthDakotaPop.append(row[2])\n",
    "    UnitedStatesPop.append(row[3])\n",
    "    \n",
    "for i in range(len(YearsCol)):\n",
    "    YearsCol[i] = int(YearsCol[i])\n",
    "    CaliforniaCol[i] = int(CaliforniaCol[i])\n",
    "\n",
    "for i in range(len(SouthDakotaCol)):\n",
    "    SouthDakotaCol[i] = int(SouthDakotaCol[i])\n",
    "\n",
    "for i in range(len(UnitedStatesCol)):\n",
    "    UnitedStatesCol[i] = int(UnitedStatesCol[i])\n",
    "    \n",
    "for i in range(len(YearsPop)):\n",
    "    YearsPop[i] = int(YearsPop[i])\n",
    "    CaliforniaPop[i] = int(CaliforniaPop[i])//30\n",
    "    SouthDakotaPop[i] = (int(SouthDakotaPop[i])//10)\n",
    "    UnitedStatesPop[i] = int(UnitedStatesPop[i])//30\n"
   ]
  },
  {
   "cell_type": "code",
   "execution_count": 31,
   "metadata": {
    "collapsed": false
   },
   "outputs": [
    {
     "name": "stdout",
     "output_type": "stream",
     "text": [
      "[6785, 6950, 7237, 7735, 8506, 8945, 9344, 9559, 9832, 10064, 10337, 10677, 11134, 11635, 12251, 12746, 13133, 13713, 14264, 14880, 15467, 15717, 16497, 17072, 17668, 18151, 18585, 18858, 19176, 19394, 19711, 19953, 20346, 20585, 20869, 21174, 21538, 21936, 22352, 22836, 23257, 23668, 24286, 24820, 25360, 25844, 26441, 27102, 27777, 28464, 29218, 29760, 30414, 30876, 31147, 31317, 31494, 31781, 32218, 32683, 33145, 33999, 34507, 34916, 35307, 35630, 35885, 36121, 36378, 36757, 36962, 37334, 37684, 38041]\n",
      "[215.0, 213.66666666666666, 204.33333333333334, 196.33333333333334, 195.66666666666666, 188.33333333333334, 193.0, 196.0, 200.33333333333334, 204.0, 210.33333333333334, 217.66666666666666, 218.33333333333334, 217.0, 216.0, 218.33333333333334, 221.0, 223.33333333333334, 222.0, 218.66666666666666, 222.33333333333334, 227.0, 231.0, 235.0, 236.0, 233.66666666666666, 230.66666666666666, 227.66666666666666, 223.66666666666666, 223.0, 222.66666666666666, 222.0, 223.66666666666666, 225.66666666666666, 226.33333333333334, 226.66666666666666, 227.0, 228.66666666666666, 229.33333333333334, 229.66666666666666, 229.33333333333334, 230.33333333333334, 230.0, 230.33333333333334, 231.0, 232.33333333333334, 232.66666666666666, 232.0, 232.0, 232.66666666666666, 232.33333333333334, 232.0, 233.66666666666666, 236.33333333333334, 238.66666666666666, 241.0, 242.66666666666666, 243.66666666666666, 243.66666666666666, 243.66666666666666, 244.33333333333334, 252.0, 253.0, 254.0, 255.33333333333334, 258.0, 259.6666666666667, 262.3333333333333, 265.3333333333333, 268.0, 270.6666666666667, 272.0, 274.6666666666667, 277.6666666666667]\n"
     ]
    }
   ],
   "source": [
    "from numpy.random import random\n",
    "from bokeh.plotting import figure, show, output_file\n",
    "\n",
    "\n",
    "    \n",
    "print(CaliforniaPop)\n",
    "print(SouthDakotaPop)\n",
    "    \n",
    "def CaliCol(p, x, y):\n",
    "    p.scatter(x, y, marker=\"circle\",\n",
    "            line_color=\"#17202A\", fill_color=\"#FFEB3B\", fill_alpha=0.7, size=12)\n",
    "def CaliPop(p, x, y):\n",
    "    p.scatter(x, y, marker=\"circle\",\n",
    "            line_color=\"#17202A\", fill_color=\"#FFF59D\", fill_alpha=0.7, size=12)\n",
    "\n",
    "def SouthD(p, x, y):\n",
    "    p.scatter(x, y, marker=\"circle\",\n",
    "            line_color=\"#17202A\", fill_color=\"#FFF59D\", fill_alpha=0.7, size=12)\n",
    "def US(p, x, y):\n",
    "    p.scatter(x, y, marker=\"circle\",\n",
    "            line_color=\"#17202A\", fill_color=\"#FFFF00\", fill_alpha=0.7, size=12)\n",
    "\n",
    "def mtext(p, x, y, textstr):\n",
    "    p.text(x, y, text=[textstr],\n",
    "         text_color=\"#449944\", text_align=\"center\", text_font_size=\"10pt\")\n",
    "\n",
    "#output_file(\"Bees.html\")\n",
    "\n",
    "p = figure(title=\"Bee Colonies\")\n",
    "\n",
    "N = 10\n",
    "\n",
    "for i in range(len(YearsCol)):\n",
    "    CaliCol(p, YearsCol[i], CaliforniaCol[i])\n",
    "\n",
    "for i in range(len(YearsPop)):\n",
    "    CaliPop(p, YearsPop[i], CaliforniaPop[i])\n",
    "    \n",
    "#for i in range(len(Years)):\n",
    "    #SouthD(p, YearsCol[i], SouthDakotaCol[i])\n",
    "    \n",
    "#for i in range(len(Years)):\n",
    "   # US(p, Years[i], UnitedStates[i])\n",
    "    \n",
    "\n",
    "\n",
    "#show(p)"
   ]
  },
  {
   "cell_type": "code",
   "execution_count": 3,
   "metadata": {
    "collapsed": false
   },
   "outputs": [
    {
     "ename": "NameError",
     "evalue": "name 'layout' is not defined",
     "output_type": "error",
     "traceback": [
      "\u001b[0;31m---------------------------------------------------------------------------\u001b[0m",
      "\u001b[0;31mNameError\u001b[0m                                 Traceback (most recent call last)",
      "\u001b[0;32m<ipython-input-3-1ce208907376>\u001b[0m in \u001b[0;36m<module>\u001b[0;34m()\u001b[0m\n\u001b[1;32m     43\u001b[0m \u001b[0mdata\u001b[0m \u001b[1;33m=\u001b[0m \u001b[1;33m[\u001b[0m\u001b[0mtraceCaliCol\u001b[0m\u001b[1;33m,\u001b[0m \u001b[0mtraceSDCol\u001b[0m\u001b[1;33m]\u001b[0m\u001b[1;33m\u001b[0m\u001b[0m\n\u001b[1;32m     44\u001b[0m \u001b[1;33m\u001b[0m\u001b[0m\n\u001b[0;32m---> 45\u001b[0;31m \u001b[0mfig\u001b[0m \u001b[1;33m=\u001b[0m \u001b[0mFigure\u001b[0m\u001b[1;33m(\u001b[0m\u001b[0mdata\u001b[0m\u001b[1;33m=\u001b[0m\u001b[0mdata\u001b[0m\u001b[1;33m,\u001b[0m \u001b[0mlayout\u001b[0m\u001b[1;33m=\u001b[0m\u001b[0mlayout\u001b[0m\u001b[1;33m)\u001b[0m\u001b[1;33m\u001b[0m\u001b[0m\n\u001b[0m\u001b[1;32m     46\u001b[0m \u001b[0mpy\u001b[0m\u001b[1;33m.\u001b[0m\u001b[0miplot\u001b[0m\u001b[1;33m(\u001b[0m\u001b[0mfig\u001b[0m\u001b[1;33m,\u001b[0m \u001b[0mfilename\u001b[0m\u001b[1;33m=\u001b[0m\u001b[1;34m'CalColandSDCol'\u001b[0m\u001b[1;33m)\u001b[0m\u001b[1;33m\u001b[0m\u001b[0m\n\u001b[1;32m     47\u001b[0m \u001b[1;31m# Plot and embed in ipython notebook!\u001b[0m\u001b[1;33m\u001b[0m\u001b[1;33m\u001b[0m\u001b[0m\n",
      "\u001b[0;31mNameError\u001b[0m: name 'layout' is not defined"
     ]
    }
   ],
   "source": [
    "import plotly\n",
    "import plotly.plotly as py\n",
    "from plotly.graph_objs import *\n",
    "import plotly.graph_objs as go\n",
    "plotly.tools.set_credentials_file(username='eac85', api_key='ArMWwgF7wJtLzkQ0ulCb')\n",
    "# Create random data with numpy\n",
    "import numpy as np\n",
    "\n",
    "N = 1000\n",
    "random_x = np.random.randn(N)\n",
    "random_y = np.random.randn(N)\n",
    "\n",
    "# Create a trace\n",
    "traceCaliCol = go.Scatter(\n",
    "    x = YearsCol,\n",
    "    y = CaliforniaCol,\n",
    "    mode = 'markers',\n",
    "    name = 'California Colonies',\n",
    "    marker = dict(\n",
    "        size = 12,\n",
    "        color = '#FFFF00')\n",
    ")\n",
    "\n",
    "traceSDCol = go.Scatter(\n",
    "    x = YearsCol,\n",
    "    y = SouthDakotaCol,\n",
    "    mode = 'markers',\n",
    "    name = 'South Dakota Colonies',\n",
    "    marker = dict(\n",
    "        size = 12,\n",
    "        color = '#f4d03f')\n",
    ")\n",
    "\n",
    "traceCaliPop = go.Scatter(\n",
    "    x = YearsPop,\n",
    "    y = CaliforniaPop,\n",
    "    mode = 'markers',\n",
    "    name = 'California Population',\n",
    "    marker = dict(\n",
    "        size = 10,\n",
    "        color = '#808b96'))\n",
    "\n",
    "data = [traceCaliCol, traceSDCol]\n",
    "\n",
    "fig = Figure(data=data, layout=layout)\n",
    "py.iplot(fig, filename='CalColandSDCol')\n",
    "# Plot and embed in ipython notebook!\n",
    "#py.iplot(Colonies, filename='Colonies')\n",
    "\n",
    "# or plot with: plot_url = py.plot(data, filename='basic-line')"
   ]
  },
  {
   "cell_type": "code",
   "execution_count": 44,
   "metadata": {
    "collapsed": false
   },
   "outputs": [
    {
     "data": {
      "text/html": [
       "<iframe id=\"igraph\" scrolling=\"no\" style=\"border:none;\" seamless=\"seamless\" src=\"https://plot.ly/~eac85/33.embed\" height=\"525px\" width=\"100%\"></iframe>"
      ],
      "text/plain": [
       "<plotly.tools.PlotlyDisplay object>"
      ]
     },
     "execution_count": 44,
     "metadata": {},
     "output_type": "execute_result"
    }
   ],
   "source": [
    "import plotly.plotly as py\n",
    "from plotly.graph_objs import *\n",
    "import plotly.graph_objs as go\n",
    "\n",
    "CalColLine = Scatter(\n",
    "    x=YearsCol,\n",
    "    y=CaliforniaCol,\n",
    "    line=Line(\n",
    "        color='#FFD700',\n",
    "        width=3\n",
    "    ),\n",
    "    name='California Colonies'\n",
    ")\n",
    "\n",
    "SDColLine = Scatter(\n",
    "    x=YearsCol, y=SouthDakotaCol,\n",
    "    line=Line(\n",
    "        color='#C0C0C0',\n",
    "        width=3\n",
    "    ),\n",
    "    name='South Dakota Colonies'\n",
    ")\n",
    "\n",
    "USColLine = Scatter(\n",
    "    x=YearsCol, y=UnitedStatesCol,\n",
    "    line=Line(\n",
    "        color='#FFFF00',\n",
    "        width=3\n",
    "    ),\n",
    "    name='United States Colonies'\n",
    ")\n",
    "\n",
    "CalPopLine = Scatter(\n",
    "    x=YearsPop, y=CaliforniaPop,\n",
    "    line=Line(\n",
    "        color='#000000',\n",
    "        width=4\n",
    "    ),\n",
    "    name='California Population'\n",
    ")\n",
    "\n",
    "SDPopLine = Scatter(\n",
    "    x=YearsPop, y=SouthDakotaPop,\n",
    "    line=Line(\n",
    "        color='#FBC02D',\n",
    "        width=4\n",
    "    ),\n",
    "    name='South Dakota Population'\n",
    ")\n",
    "\n",
    "USPopLine = Scatter(\n",
    "    x=YearsPop, y=UnitedStatesPop,\n",
    "    line=Line(\n",
    "        color='#795548',\n",
    "        width=4\n",
    "    ),\n",
    "    name='United States Population'\n",
    ")\n",
    "\n",
    "data = [CalColLine, SDColLine, USColLine, CalPopLine, SDPopLine, USPopLine]\n",
    "layout = Layout(\n",
    "    title='Bee Colonies vs Human Population',\n",
    "    updatemenus=list([\n",
    "        dict(\n",
    "            x=-0.05,\n",
    "            y=1,\n",
    "            yanchor='top',\n",
    "            buttons=list([\n",
    "                dict(\n",
    "                    args=['visible', [True, True, True, True, True, True]],\n",
    "                    label='All',\n",
    "                    method='restyle'\n",
    "                ),\n",
    "                dict(\n",
    "                    args=['visible', [True, True, True, False, False, False]],\n",
    "                    label='Colonies',\n",
    "                    method='restyle'\n",
    "                ),\n",
    "                dict(\n",
    "                    args=['visible', [False, False, False, True, True, True]],\n",
    "                    label='Populations',\n",
    "                    method='restyle'\n",
    "                ),\n",
    "                dict(\n",
    "                    args=['visible', [True, False, False, True, False, False]],\n",
    "                    label='California',\n",
    "                    method='restyle'\n",
    "                ),\n",
    "                dict(\n",
    "                    args=['visible', [False, True, False, False, True, False]],\n",
    "                    label='South Dakota',\n",
    "                    method='restyle'\n",
    "                ),\n",
    "                dict(\n",
    "                    args=['visible', [False, False, True, False, False, True]],\n",
    "                    label='United States',\n",
    "                    method='restyle'\n",
    "                )\n",
    "            ]),\n",
    "        )\n",
    "    ]),\n",
    ")\n",
    "fig = Figure(data=data, layout=layout)\n",
    "py.iplot(fig, filename='trends')"
   ]
  },
  {
   "cell_type": "code",
   "execution_count": 48,
   "metadata": {
    "collapsed": false
   },
   "outputs": [
    {
     "data": {
      "text/html": [
       "<iframe id=\"igraph\" scrolling=\"no\" style=\"border:none;\" seamless=\"seamless\" src=\"https://plot.ly/~eac85/24.embed\" height=\"525px\" width=\"100%\"></iframe>"
      ],
      "text/plain": [
       "<plotly.tools.PlotlyDisplay object>"
      ]
     },
     "execution_count": 48,
     "metadata": {},
     "output_type": "execute_result"
    }
   ],
   "source": [
    "import plotly.plotly as py\n",
    "import plotly.graph_objs as go\n",
    "\n",
    "trace1 = go.Bar(\n",
    "    x= YearsCol,\n",
    "    y= CaliforniaCol,\n",
    "    name='California Colonies',\n",
    "    marker=dict(\n",
    "        color='#ffeb3b')\n",
    ")\n",
    "trace2 = go.Bar(\n",
    "    x= YearsPop,\n",
    "    y= CaliforniaPop,\n",
    "    name='California Population',\n",
    "    marker=dict(\n",
    "       color='#607D8B')\n",
    ")\n",
    "\n",
    "\n",
    "data = [trace1, trace2]\n",
    "layout = go.Layout(\n",
    "    barmode='stack',\n",
    "    paper_bgcolor='rgba(0,0,0,0)',\n",
    "    plot_bgcolor='rgba(0,0,0,0)',\n",
    "    title='California',\n",
    "    xaxis=dict(\n",
    "        title='Years'),\n",
    "    yaxis=dict(\n",
    "        title='Population in Thousands'),\n",
    ")\n",
    "fig = go.Figure(data=data, layout=layout)\n",
    "\n",
    "py.iplot(fig, filename='California')\n"
   ]
  },
  {
   "cell_type": "code",
   "execution_count": 46,
   "metadata": {
    "collapsed": false
   },
   "outputs": [
    {
     "data": {
      "text/html": [
       "<iframe id=\"igraph\" scrolling=\"no\" style=\"border:none;\" seamless=\"seamless\" src=\"https://plot.ly/~eac85/29.embed\" height=\"525px\" width=\"100%\"></iframe>"
      ],
      "text/plain": [
       "<plotly.tools.PlotlyDisplay object>"
      ]
     },
     "execution_count": 46,
     "metadata": {},
     "output_type": "execute_result"
    }
   ],
   "source": [
    "import plotly.plotly as py\n",
    "import plotly.graph_objs as go\n",
    "\n",
    "trace1 = go.Bar(\n",
    "    x=YearsPop,\n",
    "    y=SouthDakotaPop,\n",
    "    name='South Dakota Population',\n",
    "     marker=dict(\n",
    "       color='#607D8B')\n",
    ")\n",
    "\n",
    "trace2 = go.Bar(\n",
    "    x=YearsCol,\n",
    "    y=SouthDakotaCol,\n",
    "    name='South Dakota Colonies',\n",
    "    marker=dict(\n",
    "    color='#ffeb3b')\n",
    ")\n",
    "\n",
    "data = [trace2, trace1]\n",
    "layout = go.Layout(\n",
    "    barmode='stack',\n",
    "    paper_bgcolor='rgba(0,0,0,0)',\n",
    "    plot_bgcolor='rgba(0,0,0,0)',\n",
    "    title='South Dakota',\n",
    "    xaxis=dict(\n",
    "        title='Years'),\n",
    "    yaxis=dict(\n",
    "        title='Population in Thousands'),\n",
    ")\n",
    "\n",
    "fig = go.Figure(data=data, layout=layout)\n",
    "\n",
    "py.iplot(fig, filename='SouthDakota')\n"
   ]
  },
  {
   "cell_type": "code",
   "execution_count": 47,
   "metadata": {
    "collapsed": false
   },
   "outputs": [
    {
     "data": {
      "text/html": [
       "<iframe id=\"igraph\" scrolling=\"no\" style=\"border:none;\" seamless=\"seamless\" src=\"https://plot.ly/~eac85/27.embed\" height=\"525px\" width=\"100%\"></iframe>"
      ],
      "text/plain": [
       "<plotly.tools.PlotlyDisplay object>"
      ]
     },
     "execution_count": 47,
     "metadata": {},
     "output_type": "execute_result"
    }
   ],
   "source": [
    "import plotly.plotly as py\n",
    "import plotly.graph_objs as go\n",
    "\n",
    "trace1 = go.Bar(\n",
    "    x=YearsPop,\n",
    "    y=UnitedStatesPop,\n",
    "    name='United States Population',\n",
    "     marker=dict(\n",
    "       color='#607D8B')\n",
    ")\n",
    "\n",
    "trace2 = go.Bar(\n",
    "    x=YearsCol,\n",
    "    y=UnitedStatesCol,\n",
    "    name='United States Colonies',\n",
    "    marker=dict(\n",
    "    color='#ffeb3b')\n",
    ")\n",
    "\n",
    "data = [trace2, trace1]\n",
    "layout = go.Layout(\n",
    "    barmode='stack',\n",
    "    paper_bgcolor='rgba(0,0,0,0)',\n",
    "    plot_bgcolor='rgba(0,0,0,0)',\n",
    "    title='United States',\n",
    "    xaxis=dict(\n",
    "        title='Years'),\n",
    "    yaxis=dict(\n",
    "        title='Population in Thousands'),\n",
    ")\n",
    "\n",
    "fig = go.Figure(data=data, layout=layout)\n",
    "\n",
    "py.iplot(fig, filename='USPopCol')"
   ]
  },
  {
   "cell_type": "code",
   "execution_count": null,
   "metadata": {
    "collapsed": true
   },
   "outputs": [],
   "source": []
  }
 ],
 "metadata": {
  "kernelspec": {
   "display_name": "Python 3",
   "language": "python",
   "name": "python3"
  },
  "language_info": {
   "codemirror_mode": {
    "name": "ipython",
    "version": 3
   },
   "file_extension": ".py",
   "mimetype": "text/x-python",
   "name": "python",
   "nbconvert_exporter": "python",
   "pygments_lexer": "ipython3",
   "version": "3.6.0"
  }
 },
 "nbformat": 4,
 "nbformat_minor": 2
}
